{
  "nbformat": 4,
  "nbformat_minor": 0,
  "metadata": {
    "kernelspec": {
      "display_name": "Python 3",
      "language": "python",
      "name": "python3"
    },
    "language_info": {
      "codemirror_mode": {
        "name": "ipython",
        "version": 3
      },
      "file_extension": ".py",
      "mimetype": "text/x-python",
      "name": "python",
      "nbconvert_exporter": "python",
      "pygments_lexer": "ipython3",
      "version": "3.7.3"
    },
    "colab": {
      "name": "2_activation_functions.ipynb",
      "provenance": []
    }
  },
  "cells": [
    {
      "cell_type": "markdown",
      "metadata": {
        "id": "SDMCnflX5dpc"
      },
      "source": [
        "<h3 style='color:blue' align='center'>Implementation of activation functions in python</h3>"
      ]
    },
    {
      "cell_type": "markdown",
      "metadata": {
        "id": "9i3QPaxU5dpl"
      },
      "source": [
        "<h3 style='color:purple'>Sigmoid</h3>"
      ]
    },
    {
      "cell_type": "code",
      "metadata": {
        "id": "v8hZkMr45dpl"
      },
      "source": [
        "import math\n",
        "\n",
        "def sigmoid(x):\n",
        "  return 1 / (1 + math.exp(-x))"
      ],
      "execution_count": null,
      "outputs": []
    },
    {
      "cell_type": "code",
      "metadata": {
        "id": "HnuX0K015dpm",
        "outputId": "4f5485b6-8016-4fc9-8f72-4346563feadf"
      },
      "source": [
        "sigmoid(100)"
      ],
      "execution_count": null,
      "outputs": [
        {
          "output_type": "execute_result",
          "data": {
            "text/plain": [
              "1.0"
            ]
          },
          "metadata": {
            "tags": []
          },
          "execution_count": 2
        }
      ]
    },
    {
      "cell_type": "code",
      "metadata": {
        "id": "IBB7jqs85dpn",
        "outputId": "9bdac8fb-3fd7-44f4-ca98-d0d57dfa7308"
      },
      "source": [
        "sigmoid(1)"
      ],
      "execution_count": null,
      "outputs": [
        {
          "output_type": "execute_result",
          "data": {
            "text/plain": [
              "0.7310585786300049"
            ]
          },
          "metadata": {
            "tags": []
          },
          "execution_count": 3
        }
      ]
    },
    {
      "cell_type": "code",
      "metadata": {
        "id": "MRsN7bde5dpo",
        "outputId": "97b2bc9b-6648-4ef1-d1f6-41aa8448f31d"
      },
      "source": [
        "sigmoid(-56)"
      ],
      "execution_count": null,
      "outputs": [
        {
          "output_type": "execute_result",
          "data": {
            "text/plain": [
              "4.780892883885469e-25"
            ]
          },
          "metadata": {
            "tags": []
          },
          "execution_count": 4
        }
      ]
    },
    {
      "cell_type": "code",
      "metadata": {
        "scrolled": false,
        "id": "UIzdxLeJ5dpo",
        "outputId": "cd61bd54-4285-4d43-9f72-8c005d5cc472"
      },
      "source": [
        "sigmoid(0.5)"
      ],
      "execution_count": null,
      "outputs": [
        {
          "output_type": "execute_result",
          "data": {
            "text/plain": [
              "0.6224593312018546"
            ]
          },
          "metadata": {
            "tags": []
          },
          "execution_count": 5
        }
      ]
    },
    {
      "cell_type": "markdown",
      "metadata": {
        "id": "TFiTSRIQ5dpp"
      },
      "source": [
        "<h3 style='color:purple'>tanh</h3>"
      ]
    },
    {
      "cell_type": "code",
      "metadata": {
        "id": "gVAcScvt5dpp"
      },
      "source": [
        "def tanh(x):\n",
        "  return (math.exp(x) - math.exp(-x)) / (math.exp(x) + math.exp(-x))"
      ],
      "execution_count": null,
      "outputs": []
    },
    {
      "cell_type": "code",
      "metadata": {
        "id": "IH9iFhJI5dpp",
        "outputId": "26450705-0f31-4634-a1af-a5b7481ac627"
      },
      "source": [
        "tanh(-56)"
      ],
      "execution_count": null,
      "outputs": [
        {
          "output_type": "execute_result",
          "data": {
            "text/plain": [
              "-1.0"
            ]
          },
          "metadata": {
            "tags": []
          },
          "execution_count": 7
        }
      ]
    },
    {
      "cell_type": "code",
      "metadata": {
        "id": "494ru7E-5dpq",
        "outputId": "e3011148-0c1c-487c-a504-556ea5ee3e6a"
      },
      "source": [
        "tanh(50)"
      ],
      "execution_count": null,
      "outputs": [
        {
          "output_type": "execute_result",
          "data": {
            "text/plain": [
              "1.0"
            ]
          },
          "metadata": {
            "tags": []
          },
          "execution_count": 8
        }
      ]
    },
    {
      "cell_type": "code",
      "metadata": {
        "id": "v7fRC9fe5dpq",
        "outputId": "acd64eb4-b619-4d1f-e545-0a18fee46c42"
      },
      "source": [
        "tanh(1)"
      ],
      "execution_count": null,
      "outputs": [
        {
          "output_type": "execute_result",
          "data": {
            "text/plain": [
              "0.7615941559557649"
            ]
          },
          "metadata": {
            "tags": []
          },
          "execution_count": 9
        }
      ]
    },
    {
      "cell_type": "markdown",
      "metadata": {
        "id": "sXBoC9uc5dpr"
      },
      "source": [
        "<h3 style='color:purple'>ReLU</h3>"
      ]
    },
    {
      "cell_type": "code",
      "metadata": {
        "id": "sRvkNF7e5dpr"
      },
      "source": [
        "def relu(x):\n",
        "    return max(0,x)"
      ],
      "execution_count": null,
      "outputs": []
    },
    {
      "cell_type": "code",
      "metadata": {
        "id": "moCBi32B5dpr",
        "outputId": "544e3323-715e-4b2a-fc72-13229ac5b4d7"
      },
      "source": [
        "relu(-100)"
      ],
      "execution_count": null,
      "outputs": [
        {
          "output_type": "execute_result",
          "data": {
            "text/plain": [
              "0"
            ]
          },
          "metadata": {
            "tags": []
          },
          "execution_count": 15
        }
      ]
    },
    {
      "cell_type": "code",
      "metadata": {
        "scrolled": false,
        "id": "QinS053d5dps",
        "outputId": "bd69a668-fabe-49a6-f550-043e5e680277"
      },
      "source": [
        "relu(8)"
      ],
      "execution_count": null,
      "outputs": [
        {
          "output_type": "execute_result",
          "data": {
            "text/plain": [
              "8"
            ]
          },
          "metadata": {
            "tags": []
          },
          "execution_count": 14
        }
      ]
    },
    {
      "cell_type": "markdown",
      "metadata": {
        "id": "WiU5y7i95dps"
      },
      "source": [
        "<h3 style='color:purple'>Leaky ReLU</h3>"
      ]
    },
    {
      "cell_type": "code",
      "metadata": {
        "id": "lkz0e_XD5dps"
      },
      "source": [
        "def leaky_relu(x):\n",
        "    return max(0.1*x,x)"
      ],
      "execution_count": null,
      "outputs": []
    },
    {
      "cell_type": "code",
      "metadata": {
        "id": "N1CzgTjr5dps",
        "outputId": "86fef2e2-bb53-4bca-a0d3-4748afd7c57c"
      },
      "source": [
        "leaky_relu(-100)"
      ],
      "execution_count": null,
      "outputs": [
        {
          "output_type": "execute_result",
          "data": {
            "text/plain": [
              "-10.0"
            ]
          },
          "metadata": {
            "tags": []
          },
          "execution_count": 17
        }
      ]
    },
    {
      "cell_type": "code",
      "metadata": {
        "id": "3n5_FhsN5dpt",
        "outputId": "6c087125-36e1-471c-97c9-f880f9fae574"
      },
      "source": [
        "leaky_relu(8)"
      ],
      "execution_count": null,
      "outputs": [
        {
          "output_type": "execute_result",
          "data": {
            "text/plain": [
              "8"
            ]
          },
          "metadata": {
            "tags": []
          },
          "execution_count": 18
        }
      ]
    }
  ]
}